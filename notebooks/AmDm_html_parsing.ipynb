{
 "cells": [
  {
   "cell_type": "markdown",
   "id": "99702fed-af82-46b1-a7f4-00f94d2bf36c",
   "metadata": {},
   "source": [
    "## Парсинг текстов песен с помощью HTML"
   ]
  },
  {
   "cell_type": "markdown",
   "id": "22f6d1e8",
   "metadata": {},
   "source": [
    "Дополнительные материалы по парсингу:\n",
    "* Небольшое видео: https://www.youtube.com/watch?v=7hn1_t2ZtJQ\n",
    "* Статья: https://habr.com/ru/companies/selectel/articles/754674/"
   ]
  },
  {
   "cell_type": "code",
   "execution_count": null,
   "id": "f4329b84",
   "metadata": {},
   "outputs": [],
   "source": [
    "!pip install beautifulsoup4"
   ]
  },
  {
   "cell_type": "code",
   "execution_count": null,
   "id": "ffe45bb5-b113-46c2-bdf5-2a35acbb7db8",
   "metadata": {},
   "outputs": [],
   "source": [
    "from bs4 import BeautifulSoup\n",
    "import requests\n",
    "import re"
   ]
  },
  {
   "cell_type": "code",
   "execution_count": null,
   "id": "cb8b52a6-db52-4c7d-8f95-620c63a23428",
   "metadata": {},
   "outputs": [],
   "source": [
    "songlist = requests.get('https://amdm.ru/akkordi/korol_i_shut/')"
   ]
  },
  {
   "cell_type": "code",
   "execution_count": null,
   "id": "d0baf8a2-b07f-494a-88e3-1ae6dfafd8e7",
   "metadata": {},
   "outputs": [],
   "source": [
    "songlist"
   ]
  },
  {
   "cell_type": "code",
   "execution_count": null,
   "id": "fe7686c0-c38d-456c-80bf-e3dd3dae190c",
   "metadata": {},
   "outputs": [],
   "source": [
    "a = BeautifulSoup(songlist.text, 'html.parser')"
   ]
  },
  {
   "cell_type": "code",
   "execution_count": null,
   "id": "b70fd765",
   "metadata": {},
   "outputs": [],
   "source": [
    "a.find_all('a', attrs = {'class' : 'g-link'})"
   ]
  },
  {
   "cell_type": "code",
   "execution_count": null,
   "id": "7f8ed5a6-13ad-4719-ab1b-1bb94a80e066",
   "metadata": {},
   "outputs": [],
   "source": [
    "all_page_songs = a.find_all('a', attrs = {'class' : 'g-link'})[1:]"
   ]
  },
  {
   "cell_type": "code",
   "execution_count": null,
   "id": "7b889e41-e3de-47c9-ba35-c476dbef5494",
   "metadata": {},
   "outputs": [],
   "source": [
    "all_page_songs[:5]"
   ]
  },
  {
   "cell_type": "code",
   "execution_count": null,
   "id": "18938237",
   "metadata": {},
   "outputs": [],
   "source": [
    "temp_tag = all_page_songs[5]\n",
    "temp_tag.get_attribute_list('href')\n",
    "# hyper reference"
   ]
  },
  {
   "cell_type": "code",
   "execution_count": null,
   "id": "c59fc113-d5ec-49eb-b5d0-7d3f86eefbdd",
   "metadata": {},
   "outputs": [],
   "source": [
    "song_links = []\n",
    "for i in all_page_songs:\n",
    "    if 'korol_i_shut' in str(i.get_attribute_list('href')):\n",
    "        song_links.append(i.get_attribute_list('href')[0])\n",
    "#     print(str('https:' + str(i.get_attribute_list('href')[0])))"
   ]
  },
  {
   "cell_type": "code",
   "execution_count": null,
   "id": "8463c1bd-b88e-4b9d-b514-c3a033f3fc47",
   "metadata": {},
   "outputs": [],
   "source": [
    "song_links[:5]"
   ]
  },
  {
   "cell_type": "code",
   "execution_count": null,
   "id": "064c4c4a-3863-440e-96dd-fd486434b5c3",
   "metadata": {},
   "outputs": [],
   "source": [
    "song_url = 'https://amdm.ru/akkordi/korol_i_shut/2187/gimn_shuta/'\n",
    "song_page = requests.get(song_url)\n",
    "song_html = BeautifulSoup(song_page.text)"
   ]
  },
  {
   "cell_type": "code",
   "execution_count": null,
   "id": "16033ac3-74b1-4215-906a-e5a418899ec9",
   "metadata": {},
   "outputs": [],
   "source": [
    "song_html"
   ]
  },
  {
   "cell_type": "code",
   "execution_count": null,
   "id": "a97f0b06-6ef0-472d-ac49-4cc8c4da472a",
   "metadata": {},
   "outputs": [],
   "source": [
    "t = song_html.find('pre').text"
   ]
  },
  {
   "cell_type": "code",
   "execution_count": null,
   "id": "9bdc1565-c513-42a0-9c5e-e22c76b747ba",
   "metadata": {},
   "outputs": [],
   "source": [
    "t"
   ]
  },
  {
   "cell_type": "code",
   "execution_count": null,
   "id": "732e5dd9-c057-4eb4-a519-11970505e003",
   "metadata": {},
   "outputs": [],
   "source": [
    "all_songs = ''"
   ]
  },
  {
   "cell_type": "code",
   "execution_count": null,
   "id": "2f3a820e-6164-4dd7-9002-b9d9b93c14bd",
   "metadata": {},
   "outputs": [],
   "source": [
    "from time import sleep"
   ]
  },
  {
   "cell_type": "code",
   "execution_count": null,
   "id": "8fad50d5-baf7-4383-b817-dcc9913f4b6f",
   "metadata": {},
   "outputs": [],
   "source": [
    "for i, page in enumerate(song_links):\n",
    "    sleep(.5)\n",
    "    song_page = requests.get(page)\n",
    "    song_html = BeautifulSoup(song_page.text)\n",
    "    try:\n",
    "        dirty_lyrics = song_html.find('pre').text\n",
    "        # print(song_html.find('pre').text)\n",
    "    except: \n",
    "        pass\n",
    "    # Dkjaskjdhaksjdh\n",
    "    song_lyrics = ''.join([symbol for symbol in dirty_lyrics if not re.findall(\"[A-Z]+\", symbol) and symbol not in ['\\n', '\\r', '\\t', 'm', 'Припев']])\n",
    "    all_songs += song_lyrics\n",
    "    if i % 20 == 0: print(f'{i}, song: {str(song_html.title)[7:-8]}: len of var: {len(all_songs)}, ')"
   ]
  },
  {
   "cell_type": "code",
   "execution_count": null,
   "id": "47f9234c-b5c2-4bec-99f2-02e888940bcb",
   "metadata": {},
   "outputs": [],
   "source": [
    "texts = re.sub(\" +\", \" \", re.sub(\"[a-zA-Z#-^}|]\", \"\", all_songs))\n",
    "with open('kish_lyrics.txt', 'w', encoding='utf8') as file:\n",
    "    file.write(texts)"
   ]
  },
  {
   "cell_type": "code",
   "execution_count": null,
   "id": "7c440f44-fb01-430d-b837-86b3f5519d3f",
   "metadata": {},
   "outputs": [],
   "source": [
    "all_songs"
   ]
  },
  {
   "cell_type": "code",
   "execution_count": null,
   "id": "68ac5b61-bae4-4409-b53f-4975d3135797",
   "metadata": {},
   "outputs": [],
   "source": [
    "re.sub(' +', ' ', ''.join([symbol for symbol in t if not re.findall(\"[A-Z]+\", symbol) and symbol not in ['\\n', '\\r', '\\t', 'm']]))"
   ]
  },
  {
   "cell_type": "code",
   "execution_count": 7,
   "id": "541abf4d-a619-4bb6-9287-66badcde72d8",
   "metadata": {},
   "outputs": [],
   "source": [
    "import pandas as pd\n",
    "import random"
   ]
  },
  {
   "cell_type": "code",
   "execution_count": 3,
   "id": "f9aa1cf7",
   "metadata": {},
   "outputs": [],
   "source": [
    "texts = {\n",
    "    'Небесные стражи': 'В мире, где магия и технологии сосуществуют, группа героев должна объединиться, чтобы спасти мир от древнего зла.',\n",
    "    'Восход теней': 'История о молодом волшебнике, который обнаруживает, что он является ключом к победе над тьмой, угрожающей всему миру.',\n",
    "    'Забытый город': 'Группа археологов обнаруживает древний город, спрятанный глубоко в джунглях, но вскоре понимает, что они не одни.',\n",
    "    'Вечная Зима': 'В мире, где зима длится вечно, группа повстанцев борется за возвращение солнца и восстановление баланса природы.',\n",
    "    'Код судьбы': 'Ученый обнаруживает способ предсказывать будущее, но каждый раз, когда он меняет ход событий, его настоящее становится все более неопределенным.',\n",
    "    'Потерянный рай': 'Пара влюбленных отправляется в путешествие по миру, чтобы найти легендарный рай, но на их пути встречаются опасности и неожиданные открытия.',\n",
    "    'Сердце океана': 'История о молодой морской волшебнице, которая должна спасти свой народ от разрушения подводного мира.',\n",
    "    'Тень времени': 'Фильм о человеке, который обнаруживает способ путешествовать во времени, но каждый раз, когда он меняет прошлое, его настоящее становится все более хаотичным.',\n",
    "    'Секретный мир': 'Группа друзей обнаруживает скрытый мир внутри своего собственного, где они должны преодолеть свои страхи и сомнения.',\n",
    "    'Бесконечная ночь': 'В городе, где солнце никогда не восходит, группа героев должна найти способ вернуть свет и победить тьму.',\n",
    "    'Путь воина': 'История о молодом воине, который отправляется в путешествие, чтобы стать величайшим мастером боевых искусств и защитить свой народ от врагов.',\n",
    "    'Горящий лес': 'Группа лесных существ должна объединиться, чтобы спасти свой дом от пожара, вызванного безрассудными действиями людей.',\n",
    "    'Звездный путь': 'Космические путешественники обнаруживают новый мир, но вскоре понимают, что они не одни в галактике.',\n",
    "    'Волшебный кристалл': 'Молодая волшебница обнаруживает магический кристалл, который дает ей невероятные силы, но также привлекает внимание темных сил.',\n",
    "    'Путешествия во времени': 'Семья обнаруживает машину времени и отправляется в приключение по разным эпохам, но каждый раз, когда они меняют прошлое, их настоящее становится все более сложным.',\n",
    "}\n"
   ]
  },
  {
   "cell_type": "code",
   "execution_count": 4,
   "id": "ed506f73",
   "metadata": {},
   "outputs": [],
   "source": [
    "test_csv = pd.DataFrame({\n",
    "    #'Index': range(0, 15),\n",
    "    'Title': texts.keys(),\n",
    "    'Description': texts.values()\n",
    "})"
   ]
  },
  {
   "cell_type": "code",
   "execution_count": 6,
   "id": "0306fc03",
   "metadata": {},
   "outputs": [
    {
     "data": {
      "text/plain": [
       "15"
      ]
     },
     "execution_count": 6,
     "metadata": {},
     "output_type": "execute_result"
    }
   ],
   "source": [
    "test_csv.shape[0]"
   ]
  },
  {
   "cell_type": "code",
   "execution_count": 37,
   "id": "588e418f",
   "metadata": {},
   "outputs": [
    {
     "ename": "KeyError",
     "evalue": "'[15] not in index'",
     "output_type": "error",
     "traceback": [
      "\u001b[0;31m---------------------------------------------------------------------------\u001b[0m",
      "\u001b[0;31mKeyError\u001b[0m                                  Traceback (most recent call last)",
      "Cell \u001b[0;32mIn[37], line 13\u001b[0m\n\u001b[1;32m     10\u001b[0m     indices \u001b[38;5;241m=\u001b[39m \u001b[38;5;28msorted\u001b[39m(indices)\n\u001b[1;32m     11\u001b[0m     \u001b[38;5;28;01mreturn\u001b[39;00m df\u001b[38;5;241m.\u001b[39mloc[indices]\n\u001b[0;32m---> 13\u001b[0m \u001b[43mrand_ind\u001b[49m\u001b[43m(\u001b[49m\u001b[43mtest_csv\u001b[49m\u001b[43m)\u001b[49m\n",
      "Cell \u001b[0;32mIn[37], line 11\u001b[0m, in \u001b[0;36mrand_ind\u001b[0;34m(df)\u001b[0m\n\u001b[1;32m      9\u001b[0m         i \u001b[38;5;241m+\u001b[39m\u001b[38;5;241m=\u001b[39m \u001b[38;5;241m1\u001b[39m\n\u001b[1;32m     10\u001b[0m indices \u001b[38;5;241m=\u001b[39m \u001b[38;5;28msorted\u001b[39m(indices)\n\u001b[0;32m---> 11\u001b[0m \u001b[38;5;28;01mreturn\u001b[39;00m \u001b[43mdf\u001b[49m\u001b[38;5;241;43m.\u001b[39;49m\u001b[43mloc\u001b[49m\u001b[43m[\u001b[49m\u001b[43mindices\u001b[49m\u001b[43m]\u001b[49m\n",
      "File \u001b[0;32m~/miniforge3/envs/phase2/lib/python3.10/site-packages/pandas/core/indexing.py:1191\u001b[0m, in \u001b[0;36m_LocationIndexer.__getitem__\u001b[0;34m(self, key)\u001b[0m\n\u001b[1;32m   1189\u001b[0m maybe_callable \u001b[38;5;241m=\u001b[39m com\u001b[38;5;241m.\u001b[39mapply_if_callable(key, \u001b[38;5;28mself\u001b[39m\u001b[38;5;241m.\u001b[39mobj)\n\u001b[1;32m   1190\u001b[0m maybe_callable \u001b[38;5;241m=\u001b[39m \u001b[38;5;28mself\u001b[39m\u001b[38;5;241m.\u001b[39m_check_deprecated_callable_usage(key, maybe_callable)\n\u001b[0;32m-> 1191\u001b[0m \u001b[38;5;28;01mreturn\u001b[39;00m \u001b[38;5;28;43mself\u001b[39;49m\u001b[38;5;241;43m.\u001b[39;49m\u001b[43m_getitem_axis\u001b[49m\u001b[43m(\u001b[49m\u001b[43mmaybe_callable\u001b[49m\u001b[43m,\u001b[49m\u001b[43m \u001b[49m\u001b[43maxis\u001b[49m\u001b[38;5;241;43m=\u001b[39;49m\u001b[43maxis\u001b[49m\u001b[43m)\u001b[49m\n",
      "File \u001b[0;32m~/miniforge3/envs/phase2/lib/python3.10/site-packages/pandas/core/indexing.py:1420\u001b[0m, in \u001b[0;36m_LocIndexer._getitem_axis\u001b[0;34m(self, key, axis)\u001b[0m\n\u001b[1;32m   1417\u001b[0m     \u001b[38;5;28;01mif\u001b[39;00m \u001b[38;5;28mhasattr\u001b[39m(key, \u001b[38;5;124m\"\u001b[39m\u001b[38;5;124mndim\u001b[39m\u001b[38;5;124m\"\u001b[39m) \u001b[38;5;129;01mand\u001b[39;00m key\u001b[38;5;241m.\u001b[39mndim \u001b[38;5;241m>\u001b[39m \u001b[38;5;241m1\u001b[39m:\n\u001b[1;32m   1418\u001b[0m         \u001b[38;5;28;01mraise\u001b[39;00m \u001b[38;5;167;01mValueError\u001b[39;00m(\u001b[38;5;124m\"\u001b[39m\u001b[38;5;124mCannot index with multidimensional key\u001b[39m\u001b[38;5;124m\"\u001b[39m)\n\u001b[0;32m-> 1420\u001b[0m     \u001b[38;5;28;01mreturn\u001b[39;00m \u001b[38;5;28;43mself\u001b[39;49m\u001b[38;5;241;43m.\u001b[39;49m\u001b[43m_getitem_iterable\u001b[49m\u001b[43m(\u001b[49m\u001b[43mkey\u001b[49m\u001b[43m,\u001b[49m\u001b[43m \u001b[49m\u001b[43maxis\u001b[49m\u001b[38;5;241;43m=\u001b[39;49m\u001b[43maxis\u001b[49m\u001b[43m)\u001b[49m\n\u001b[1;32m   1422\u001b[0m \u001b[38;5;66;03m# nested tuple slicing\u001b[39;00m\n\u001b[1;32m   1423\u001b[0m \u001b[38;5;28;01mif\u001b[39;00m is_nested_tuple(key, labels):\n",
      "File \u001b[0;32m~/miniforge3/envs/phase2/lib/python3.10/site-packages/pandas/core/indexing.py:1360\u001b[0m, in \u001b[0;36m_LocIndexer._getitem_iterable\u001b[0;34m(self, key, axis)\u001b[0m\n\u001b[1;32m   1357\u001b[0m \u001b[38;5;28mself\u001b[39m\u001b[38;5;241m.\u001b[39m_validate_key(key, axis)\n\u001b[1;32m   1359\u001b[0m \u001b[38;5;66;03m# A collection of keys\u001b[39;00m\n\u001b[0;32m-> 1360\u001b[0m keyarr, indexer \u001b[38;5;241m=\u001b[39m \u001b[38;5;28;43mself\u001b[39;49m\u001b[38;5;241;43m.\u001b[39;49m\u001b[43m_get_listlike_indexer\u001b[49m\u001b[43m(\u001b[49m\u001b[43mkey\u001b[49m\u001b[43m,\u001b[49m\u001b[43m \u001b[49m\u001b[43maxis\u001b[49m\u001b[43m)\u001b[49m\n\u001b[1;32m   1361\u001b[0m \u001b[38;5;28;01mreturn\u001b[39;00m \u001b[38;5;28mself\u001b[39m\u001b[38;5;241m.\u001b[39mobj\u001b[38;5;241m.\u001b[39m_reindex_with_indexers(\n\u001b[1;32m   1362\u001b[0m     {axis: [keyarr, indexer]}, copy\u001b[38;5;241m=\u001b[39m\u001b[38;5;28;01mTrue\u001b[39;00m, allow_dups\u001b[38;5;241m=\u001b[39m\u001b[38;5;28;01mTrue\u001b[39;00m\n\u001b[1;32m   1363\u001b[0m )\n",
      "File \u001b[0;32m~/miniforge3/envs/phase2/lib/python3.10/site-packages/pandas/core/indexing.py:1558\u001b[0m, in \u001b[0;36m_LocIndexer._get_listlike_indexer\u001b[0;34m(self, key, axis)\u001b[0m\n\u001b[1;32m   1555\u001b[0m ax \u001b[38;5;241m=\u001b[39m \u001b[38;5;28mself\u001b[39m\u001b[38;5;241m.\u001b[39mobj\u001b[38;5;241m.\u001b[39m_get_axis(axis)\n\u001b[1;32m   1556\u001b[0m axis_name \u001b[38;5;241m=\u001b[39m \u001b[38;5;28mself\u001b[39m\u001b[38;5;241m.\u001b[39mobj\u001b[38;5;241m.\u001b[39m_get_axis_name(axis)\n\u001b[0;32m-> 1558\u001b[0m keyarr, indexer \u001b[38;5;241m=\u001b[39m \u001b[43max\u001b[49m\u001b[38;5;241;43m.\u001b[39;49m\u001b[43m_get_indexer_strict\u001b[49m\u001b[43m(\u001b[49m\u001b[43mkey\u001b[49m\u001b[43m,\u001b[49m\u001b[43m \u001b[49m\u001b[43maxis_name\u001b[49m\u001b[43m)\u001b[49m\n\u001b[1;32m   1560\u001b[0m \u001b[38;5;28;01mreturn\u001b[39;00m keyarr, indexer\n",
      "File \u001b[0;32m~/miniforge3/envs/phase2/lib/python3.10/site-packages/pandas/core/indexes/base.py:6200\u001b[0m, in \u001b[0;36mIndex._get_indexer_strict\u001b[0;34m(self, key, axis_name)\u001b[0m\n\u001b[1;32m   6197\u001b[0m \u001b[38;5;28;01melse\u001b[39;00m:\n\u001b[1;32m   6198\u001b[0m     keyarr, indexer, new_indexer \u001b[38;5;241m=\u001b[39m \u001b[38;5;28mself\u001b[39m\u001b[38;5;241m.\u001b[39m_reindex_non_unique(keyarr)\n\u001b[0;32m-> 6200\u001b[0m \u001b[38;5;28;43mself\u001b[39;49m\u001b[38;5;241;43m.\u001b[39;49m\u001b[43m_raise_if_missing\u001b[49m\u001b[43m(\u001b[49m\u001b[43mkeyarr\u001b[49m\u001b[43m,\u001b[49m\u001b[43m \u001b[49m\u001b[43mindexer\u001b[49m\u001b[43m,\u001b[49m\u001b[43m \u001b[49m\u001b[43maxis_name\u001b[49m\u001b[43m)\u001b[49m\n\u001b[1;32m   6202\u001b[0m keyarr \u001b[38;5;241m=\u001b[39m \u001b[38;5;28mself\u001b[39m\u001b[38;5;241m.\u001b[39mtake(indexer)\n\u001b[1;32m   6203\u001b[0m \u001b[38;5;28;01mif\u001b[39;00m \u001b[38;5;28misinstance\u001b[39m(key, Index):\n\u001b[1;32m   6204\u001b[0m     \u001b[38;5;66;03m# GH 42790 - Preserve name from an Index\u001b[39;00m\n",
      "File \u001b[0;32m~/miniforge3/envs/phase2/lib/python3.10/site-packages/pandas/core/indexes/base.py:6252\u001b[0m, in \u001b[0;36mIndex._raise_if_missing\u001b[0;34m(self, key, indexer, axis_name)\u001b[0m\n\u001b[1;32m   6249\u001b[0m     \u001b[38;5;28;01mraise\u001b[39;00m \u001b[38;5;167;01mKeyError\u001b[39;00m(\u001b[38;5;124mf\u001b[39m\u001b[38;5;124m\"\u001b[39m\u001b[38;5;124mNone of [\u001b[39m\u001b[38;5;132;01m{\u001b[39;00mkey\u001b[38;5;132;01m}\u001b[39;00m\u001b[38;5;124m] are in the [\u001b[39m\u001b[38;5;132;01m{\u001b[39;00maxis_name\u001b[38;5;132;01m}\u001b[39;00m\u001b[38;5;124m]\u001b[39m\u001b[38;5;124m\"\u001b[39m)\n\u001b[1;32m   6251\u001b[0m not_found \u001b[38;5;241m=\u001b[39m \u001b[38;5;28mlist\u001b[39m(ensure_index(key)[missing_mask\u001b[38;5;241m.\u001b[39mnonzero()[\u001b[38;5;241m0\u001b[39m]]\u001b[38;5;241m.\u001b[39munique())\n\u001b[0;32m-> 6252\u001b[0m \u001b[38;5;28;01mraise\u001b[39;00m \u001b[38;5;167;01mKeyError\u001b[39;00m(\u001b[38;5;124mf\u001b[39m\u001b[38;5;124m\"\u001b[39m\u001b[38;5;132;01m{\u001b[39;00mnot_found\u001b[38;5;132;01m}\u001b[39;00m\u001b[38;5;124m not in index\u001b[39m\u001b[38;5;124m\"\u001b[39m)\n",
      "\u001b[0;31mKeyError\u001b[0m: '[15] not in index'"
     ]
    }
   ],
   "source": [
    "def rand_ind(df):\n",
    "\n",
    "    indices = []\n",
    "    i = 0\n",
    "    while i < 10:\n",
    "        index = random.randint(0, test_csv.shape[0])\n",
    "        if index not in indices:\n",
    "            indices.append(index)\n",
    "            i += 1\n",
    "    indices = sorted(indices)\n",
    "    return df.loc[indices]\n",
    "\n",
    "rand_ind(test_csv)"
   ]
  },
  {
   "cell_type": "code",
   "execution_count": 27,
   "id": "77c0bfcb",
   "metadata": {},
   "outputs": [
    {
     "name": "stdout",
     "output_type": "stream",
     "text": [
      "[0, 1, 2, 6, 7, 8, 9, 10, 12, 14]\n"
     ]
    }
   ],
   "source": [
    "indices = sorted(indices)\n",
    "print(indices)"
   ]
  },
  {
   "cell_type": "code",
   "execution_count": 29,
   "id": "f09b8624",
   "metadata": {},
   "outputs": [
    {
     "data": {
      "text/html": [
       "<div>\n",
       "<style scoped>\n",
       "    .dataframe tbody tr th:only-of-type {\n",
       "        vertical-align: middle;\n",
       "    }\n",
       "\n",
       "    .dataframe tbody tr th {\n",
       "        vertical-align: top;\n",
       "    }\n",
       "\n",
       "    .dataframe thead th {\n",
       "        text-align: right;\n",
       "    }\n",
       "</style>\n",
       "<table border=\"1\" class=\"dataframe\">\n",
       "  <thead>\n",
       "    <tr style=\"text-align: right;\">\n",
       "      <th></th>\n",
       "      <th>Title</th>\n",
       "      <th>Description</th>\n",
       "    </tr>\n",
       "  </thead>\n",
       "  <tbody>\n",
       "    <tr>\n",
       "      <th>0</th>\n",
       "      <td>Небесные стражи</td>\n",
       "      <td>В мире, где магия и технологии сосуществуют, г...</td>\n",
       "    </tr>\n",
       "    <tr>\n",
       "      <th>1</th>\n",
       "      <td>Восход теней</td>\n",
       "      <td>История о молодом волшебнике, который обнаружи...</td>\n",
       "    </tr>\n",
       "    <tr>\n",
       "      <th>2</th>\n",
       "      <td>Забытый город</td>\n",
       "      <td>Группа археологов обнаруживает древний город, ...</td>\n",
       "    </tr>\n",
       "    <tr>\n",
       "      <th>6</th>\n",
       "      <td>Сердце океана</td>\n",
       "      <td>История о молодой морской волшебнице, которая ...</td>\n",
       "    </tr>\n",
       "    <tr>\n",
       "      <th>7</th>\n",
       "      <td>Тень времени</td>\n",
       "      <td>Фильм о человеке, который обнаруживает способ ...</td>\n",
       "    </tr>\n",
       "    <tr>\n",
       "      <th>8</th>\n",
       "      <td>Секретный мир</td>\n",
       "      <td>Группа друзей обнаруживает скрытый мир внутри ...</td>\n",
       "    </tr>\n",
       "    <tr>\n",
       "      <th>9</th>\n",
       "      <td>Бесконечная ночь</td>\n",
       "      <td>В городе, где солнце никогда не восходит, груп...</td>\n",
       "    </tr>\n",
       "    <tr>\n",
       "      <th>10</th>\n",
       "      <td>Путь воина</td>\n",
       "      <td>История о молодом воине, который отправляется ...</td>\n",
       "    </tr>\n",
       "    <tr>\n",
       "      <th>12</th>\n",
       "      <td>Звездный путь</td>\n",
       "      <td>Космические путешественники обнаруживают новый...</td>\n",
       "    </tr>\n",
       "    <tr>\n",
       "      <th>14</th>\n",
       "      <td>Путешествия во времени</td>\n",
       "      <td>Семья обнаруживает машину времени и отправляет...</td>\n",
       "    </tr>\n",
       "  </tbody>\n",
       "</table>\n",
       "</div>"
      ],
      "text/plain": [
       "                     Title                                        Description\n",
       "0          Небесные стражи  В мире, где магия и технологии сосуществуют, г...\n",
       "1             Восход теней  История о молодом волшебнике, который обнаружи...\n",
       "2            Забытый город  Группа археологов обнаруживает древний город, ...\n",
       "6            Сердце океана  История о молодой морской волшебнице, которая ...\n",
       "7             Тень времени  Фильм о человеке, который обнаруживает способ ...\n",
       "8            Секретный мир  Группа друзей обнаруживает скрытый мир внутри ...\n",
       "9         Бесконечная ночь  В городе, где солнце никогда не восходит, груп...\n",
       "10              Путь воина  История о молодом воине, который отправляется ...\n",
       "12           Звездный путь  Космические путешественники обнаруживают новый...\n",
       "14  Путешествия во времени  Семья обнаруживает машину времени и отправляет..."
      ]
     },
     "execution_count": 29,
     "metadata": {},
     "output_type": "execute_result"
    }
   ],
   "source": [
    "test_csv.iloc[indices]"
   ]
  },
  {
   "cell_type": "code",
   "execution_count": 30,
   "id": "7e1c6fac",
   "metadata": {},
   "outputs": [
    {
     "data": {
      "text/html": [
       "<div>\n",
       "<style scoped>\n",
       "    .dataframe tbody tr th:only-of-type {\n",
       "        vertical-align: middle;\n",
       "    }\n",
       "\n",
       "    .dataframe tbody tr th {\n",
       "        vertical-align: top;\n",
       "    }\n",
       "\n",
       "    .dataframe thead th {\n",
       "        text-align: right;\n",
       "    }\n",
       "</style>\n",
       "<table border=\"1\" class=\"dataframe\">\n",
       "  <thead>\n",
       "    <tr style=\"text-align: right;\">\n",
       "      <th></th>\n",
       "      <th>Title</th>\n",
       "      <th>Description</th>\n",
       "    </tr>\n",
       "  </thead>\n",
       "  <tbody>\n",
       "    <tr>\n",
       "      <th>9</th>\n",
       "      <td>Бесконечная ночь</td>\n",
       "      <td>В городе, где солнце никогда не восходит, груп...</td>\n",
       "    </tr>\n",
       "    <tr>\n",
       "      <th>10</th>\n",
       "      <td>Путь воина</td>\n",
       "      <td>История о молодом воине, который отправляется ...</td>\n",
       "    </tr>\n",
       "    <tr>\n",
       "      <th>2</th>\n",
       "      <td>Забытый город</td>\n",
       "      <td>Группа археологов обнаруживает древний город, ...</td>\n",
       "    </tr>\n",
       "    <tr>\n",
       "      <th>14</th>\n",
       "      <td>Путешествия во времени</td>\n",
       "      <td>Семья обнаруживает машину времени и отправляет...</td>\n",
       "    </tr>\n",
       "    <tr>\n",
       "      <th>11</th>\n",
       "      <td>Горящий лес</td>\n",
       "      <td>Группа лесных существ должна объединиться, что...</td>\n",
       "    </tr>\n",
       "    <tr>\n",
       "      <th>4</th>\n",
       "      <td>Код судьбы</td>\n",
       "      <td>Ученый обнаруживает способ предсказывать будущ...</td>\n",
       "    </tr>\n",
       "    <tr>\n",
       "      <th>1</th>\n",
       "      <td>Восход теней</td>\n",
       "      <td>История о молодом волшебнике, который обнаружи...</td>\n",
       "    </tr>\n",
       "    <tr>\n",
       "      <th>8</th>\n",
       "      <td>Секретный мир</td>\n",
       "      <td>Группа друзей обнаруживает скрытый мир внутри ...</td>\n",
       "    </tr>\n",
       "    <tr>\n",
       "      <th>13</th>\n",
       "      <td>Волшебный кристалл</td>\n",
       "      <td>Молодая волшебница обнаруживает магический кри...</td>\n",
       "    </tr>\n",
       "    <tr>\n",
       "      <th>12</th>\n",
       "      <td>Звездный путь</td>\n",
       "      <td>Космические путешественники обнаруживают новый...</td>\n",
       "    </tr>\n",
       "  </tbody>\n",
       "</table>\n",
       "</div>"
      ],
      "text/plain": [
       "                     Title                                        Description\n",
       "9         Бесконечная ночь  В городе, где солнце никогда не восходит, груп...\n",
       "10              Путь воина  История о молодом воине, который отправляется ...\n",
       "2            Забытый город  Группа археологов обнаруживает древний город, ...\n",
       "14  Путешествия во времени  Семья обнаруживает машину времени и отправляет...\n",
       "11             Горящий лес  Группа лесных существ должна объединиться, что...\n",
       "4               Код судьбы  Ученый обнаруживает способ предсказывать будущ...\n",
       "1             Восход теней  История о молодом волшебнике, который обнаружи...\n",
       "8            Секретный мир  Группа друзей обнаруживает скрытый мир внутри ...\n",
       "13      Волшебный кристалл  Молодая волшебница обнаруживает магический кри...\n",
       "12           Звездный путь  Космические путешественники обнаруживают новый..."
      ]
     },
     "execution_count": 30,
     "metadata": {},
     "output_type": "execute_result"
    }
   ],
   "source": [
    "test_csv.sample(10)"
   ]
  },
  {
   "cell_type": "code",
   "execution_count": 36,
   "id": "3f70ffa4",
   "metadata": {},
   "outputs": [
    {
     "name": "stdout",
     "output_type": "stream",
     "text": [
      "Title                                            Небесные стражи\n",
      "Description    В мире, где магия и технологии сосуществуют, г...\n",
      "Name: 0, dtype: object\n",
      "Title                                               Восход теней\n",
      "Description    История о молодом волшебнике, который обнаружи...\n",
      "Name: 1, dtype: object\n",
      "Title                                              Забытый город\n",
      "Description    Группа археологов обнаруживает древний город, ...\n",
      "Name: 2, dtype: object\n",
      "Title                                                Вечная Зима\n",
      "Description    В мире, где зима длится вечно, группа повстанц...\n",
      "Name: 3, dtype: object\n",
      "Title                                                 Код судьбы\n",
      "Description    Ученый обнаруживает способ предсказывать будущ...\n",
      "Name: 4, dtype: object\n",
      "Title                                             Потерянный рай\n",
      "Description    Пара влюбленных отправляется в путешествие по ...\n",
      "Name: 5, dtype: object\n",
      "Title                                              Сердце океана\n",
      "Description    История о молодой морской волшебнице, которая ...\n",
      "Name: 6, dtype: object\n",
      "Title                                               Тень времени\n",
      "Description    Фильм о человеке, который обнаруживает способ ...\n",
      "Name: 7, dtype: object\n",
      "Title                                              Секретный мир\n",
      "Description    Группа друзей обнаруживает скрытый мир внутри ...\n",
      "Name: 8, dtype: object\n",
      "Title                                           Бесконечная ночь\n",
      "Description    В городе, где солнце никогда не восходит, груп...\n",
      "Name: 9, dtype: object\n",
      "Title                                                 Путь воина\n",
      "Description    История о молодом воине, который отправляется ...\n",
      "Name: 10, dtype: object\n",
      "Title                                                Горящий лес\n",
      "Description    Группа лесных существ должна объединиться, что...\n",
      "Name: 11, dtype: object\n",
      "Title                                              Звездный путь\n",
      "Description    Космические путешественники обнаруживают новый...\n",
      "Name: 12, dtype: object\n",
      "Title                                         Волшебный кристалл\n",
      "Description    Молодая волшебница обнаруживает магический кри...\n",
      "Name: 13, dtype: object\n",
      "Title                                     Путешествия во времени\n",
      "Description    Семья обнаруживает машину времени и отправляет...\n",
      "Name: 14, dtype: object\n"
     ]
    }
   ],
   "source": [
    "for i, j in test_csv.iterrows():\n",
    "    print(j)"
   ]
  },
  {
   "cell_type": "code",
   "execution_count": null,
   "id": "a804d6a8",
   "metadata": {},
   "outputs": [],
   "source": [
    "taro, indices = random_generator(df)\n",
    "l, mid, r = st.columns(3)\n",
    "mid.subheader('Вот твоя топовая подборка на сегодня!')\n",
    "for i in indices:\n",
    "    st.write(f'Название фильма - {taro['Title'][i]}')\n",
    "    st.write(f'Краткое описание - {taro['Description'][i]}')\n",
    "\n",
    "left, middle, right = st.columns(3)\n",
    "middle.button('Крутите барабан', icon=\"🎰\", use_container_width=True)\n",
    "\n",
    "row1 = st.columns(3)\n",
    "row2 = st.columns(4)\n",
    "row3 = st.columns(3)\n",
    "\n",
    "rows = row1 + row2 + row3:"
   ]
  },
  {
   "cell_type": "code",
   "execution_count": null,
   "id": "df8a508d",
   "metadata": {},
   "outputs": [],
   "source": [
    "for i, (col, (_, movies)) in enumerate(zip(rows, output.iterrows())):\n",
    "    tile = col.container(height=130)\n",
    "    tile.subheader(f'🎬 {movies['Title']}')\n",
    "\n",
    "    if tile.button(f'🔍 Описание фильма {i}'):\n",
    "        col.write(f'{movies['Description']}')"
   ]
  },
  {
   "cell_type": "code",
   "execution_count": 1,
   "id": "7eef5d3e",
   "metadata": {},
   "outputs": [],
   "source": [
    "import pandas as pd"
   ]
  },
  {
   "cell_type": "code",
   "execution_count": 9,
   "id": "c15b1e30",
   "metadata": {},
   "outputs": [],
   "source": [
    "df_page1 = pd.read_csv('clear_all.csv').drop(columns='Unnamed: 0')"
   ]
  },
  {
   "cell_type": "code",
   "execution_count": 10,
   "id": "2baf1e64",
   "metadata": {},
   "outputs": [],
   "source": [
    "df_page1 = df_page1.reset_index(drop=True)"
   ]
  },
  {
   "cell_type": "code",
   "execution_count": 11,
   "id": "f7b67f72",
   "metadata": {},
   "outputs": [],
   "source": [
    "df_page1.to_csv('clean_df.csv')"
   ]
  },
  {
   "cell_type": "code",
   "execution_count": null,
   "id": "2a2cdfbb",
   "metadata": {},
   "outputs": [],
   "source": [
    "import gigachat\n",
    "from gigachat import GigaChat\n",
    "\n",
    "# Инициализация клиента GigaChat с API-ключом\n",
    "client = GigaChat(credentials=\"ВАШ_КЛЮЧ_АВТОРИЗАЦИИ\")\n",
    "\n",
    "def get_movie_summary(movie_title):\n",
    "    prompt = f\"Предоставь краткое описание сюжета фильма '{movie_title}'.\"\n",
    "    response = client.completion(\n",
    "        prompt=prompt,\n",
    "        max_tokens=150,\n",
    "        temperature=0.7\n",
    "    )\n",
    "    return response['choices'][0]['text']\n",
    "\n",
    "# Пример использования функции\n",
    "movie_title = \"Блеф\"\n",
    "summary = get_movie_summary(movie_title)\n",
    "print(f\"Описание сюжета фильма '{movie_title}':\\n{summary}\")\n"
   ]
  },
  {
   "cell_type": "code",
   "execution_count": 3,
   "id": "f381e584",
   "metadata": {},
   "outputs": [],
   "source": [
    "from langchain_gigachat.chat_models import GigaChat\n",
    "from langchain_core.messages import HumanMessage\n",
    "\n",
    "def ask_gigachat(user_message):\n",
    "    # Инициализация GigaChat\n",
    "    giga = GigaChat(\n",
    "    model=\"GigaChat\",  \n",
    "    credentials=\"MDFiMTQxYzgtMjlmOS00MmExLWI1OTUtYjU4NWI0YTczOGQ3OmYyNDlmOTBhLTdmMDQtNDJiZS1iNzZhLWJhODRhMWZiYzZiYg==\",\n",
    "    verify_ssl_certs=False,\n",
    "    temperature=0.7,\n",
    "    MaxTokens=300,\n",
    "    profanity_check=True\n",
    ")\n",
    "    \n",
    "    # Создание списка сообщений\n",
    "    messages = [\n",
    "        {\n",
    "            \"role\": \"system\", \n",
    "            \"content\": 'Ты эксперт по кинематографу. Рекомендуй только лучшие фильмы, под запрос пользователя. Отвечай коротко и лаконично в формате \"Название\" - короткое описание'\n",
    "        },\n",
    "        HumanMessage(\n",
    "            content=user_message\n",
    "        )\n",
    "    ]\n",
    "    \n",
    "    # Получение ответа\n",
    "    response = giga.invoke(messages)\n",
    "    \n",
    "    return response.content\n"
   ]
  },
  {
   "cell_type": "code",
   "execution_count": 4,
   "id": "fa779311",
   "metadata": {},
   "outputs": [
    {
     "name": "stderr",
     "output_type": "stream",
     "text": [
      "Extra fields {'MaxTokens'} in GigaChat class\n"
     ]
    },
    {
     "name": "stdout",
     "output_type": "stream",
     "text": [
      "\"Сковорода\" - это южнокорейский фильм ужасов о зловещем кухонном предмете, который жарит сердца людей. Если вам нравятся такие необычные и напряженные фильмы, то рекомендую посмотреть \"Звонок\" (японский фильм ужасов о проклятой видеозаписи) и \"Заклятие\" (американский хоррор о паранормальных явлениях).\n"
     ]
    }
   ],
   "source": [
    "print(ask_gigachat(\"Посоветуй мне фильмы, похожие на фильм сковороду\"))"
   ]
  },
  {
   "cell_type": "code",
   "execution_count": null,
   "id": "e52f1a25",
   "metadata": {},
   "outputs": [],
   "source": [
    "import logging\n",
    "from datetime import datetime\n",
    "from langchain_gigachat import GigaChat\n",
    "from langchain_core.messages import HumanMessage\n",
    "\n",
    "def setup_logger(log_file=None):\n",
    "    \"\"\"\n",
    "    Настройка логгера с выводом в консоль и опционально в файл\n",
    "    \"\"\"\n",
    "    # Создаем логгер\n",
    "    logger = logging.getLogger('GigaChat_Logger')\n",
    "    logger.setLevel(logging.DEBUG)\n",
    "\n",
    "    # Форматтер для логов\n",
    "    formatter = logging.Formatter(\n",
    "        '%(asctime)s - %(levelname)s - %(message)s', \n",
    "        datefmt='%Y-%m-%d %H:%M:%S'\n",
    "    )\n",
    "\n",
    "    # Логгирование в консоль\n",
    "    console_handler = logging.StreamHandler()\n",
    "    console_handler.setLevel(logging.INFO)\n",
    "    console_handler.setFormatter(formatter)\n",
    "    logger.addHandler(console_handler)\n",
    "\n",
    "    # Логгирование в файл (если указан)\n",
    "    if log_file is None:\n",
    "        # Если файл не указан, создаем имя с текущей датой\n",
    "        log_file = f\"gigachat_log_{datetime.now().strftime('%Y%m%d_%H%M%S')}.log\"\n",
    "\n",
    "    file_handler = logging.FileHandler(log_file, encoding='utf-8')\n",
    "    file_handler.setLevel(logging.DEBUG)\n",
    "    file_handler.setFormatter(formatter)\n",
    "    logger.addHandler(file_handler)\n",
    "\n",
    "    return logger\n",
    "\n",
    "def ask_gigachat(\n",
    "    user_message, \n",
    "    system_role=\"Ты helpful ассистент\", \n",
    "    log_file=None\n",
    "):\n",
    "    # Настройка логгера\n",
    "    logger = setup_logger(log_file)\n",
    "\n",
    "    try:\n",
    "        # Логируем входящее сообщение\n",
    "        logger.info(f\"Входящее сообщение: {user_message}\")\n",
    "        logger.debug(f\"Системная роль: {system_role}\")\n",
    "\n",
    "        # Инициализация GigaChat с логированием\n",
    "        giga = GigaChat(\n",
    "            model=\"GigaChat-Max\",  \n",
    "            credentials=\"Ваш ключ\",\n",
    "            verify_ssl_certs=False,\n",
    "            temperature=0.7,\n",
    "            profanity_check=True\n",
    "        )\n",
    "\n",
    "        # Подготовка сообщений\n",
    "        messages = [\n",
    "            {\n",
    "                \"role\": \"system\", \n",
    "                \"content\": system_role\n",
    "            },\n",
    "            HumanMessage(content=user_message)\n",
    "        ]\n",
    "\n",
    "        # Логируем отправку запроса\n",
    "        logger.info(\"Отправка запроса в GigaChat...\")\n",
    "\n",
    "        # Получение ответа\n",
    "        response = giga.invoke(messages)\n",
    "\n",
    "        # Логируем полученный ответ\n",
    "        logger.info(f\"Получен ответ от GigaChat: {response.content}\")\n",
    "\n",
    "        return response.content\n",
    "\n",
    "    except Exception as e:\n",
    "        # Логируем любые ошибки\n",
    "        logger.error(f\"Произошла ошибка: {str(e)}\", exc_info=True)\n",
    "        raise\n",
    "\n",
    "# Примеры использования\n",
    "if __name__ == \"__main__\":\n",
    "    # Логирование в консоль и файл с автоматическим именем\n",
    "    result = ask_gigachat(\n",
    "        \"Расскажи анекдот\", \n",
    "        log_file=\"custom_gigachat.log\"\n",
    "    )\n",
    "    print(result)\n"
   ]
  }
 ],
 "metadata": {
  "kernelspec": {
   "display_name": "phase2",
   "language": "python",
   "name": "python3"
  },
  "language_info": {
   "codemirror_mode": {
    "name": "ipython",
    "version": 3
   },
   "file_extension": ".py",
   "mimetype": "text/x-python",
   "name": "python",
   "nbconvert_exporter": "python",
   "pygments_lexer": "ipython3",
   "version": "3.10.16"
  }
 },
 "nbformat": 4,
 "nbformat_minor": 5
}
