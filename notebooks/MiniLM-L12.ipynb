{
 "cells": [
  {
   "cell_type": "code",
   "execution_count": 77,
   "metadata": {},
   "outputs": [],
   "source": [
    "import re\n",
    "import pickle\n",
    "import pandas as pd\n",
    "import numpy as np\n",
    "from sentence_transformers import util\n",
    "import torch\n",
    "from transformers import AutoTokenizer, AutoModel\n",
    "from tqdm import tqdm\n",
    "tqdm.pandas()\n",
    "import sklearn\n",
    "sklearn.set_config(transform_output=\"pandas\")\n",
    "from sklearn.metrics.pairwise import cosine_similarity\n",
    "from sklearn.compose import ColumnTransformer\n",
    "from sklearn.impute import SimpleImputer"
   ]
  },
  {
   "cell_type": "code",
   "execution_count": 2,
   "metadata": {},
   "outputs": [
    {
     "name": "stdout",
     "output_type": "stream",
     "text": [
      "CUDA доступна!\n"
     ]
    }
   ],
   "source": [
    "if torch.cuda.is_available():\n",
    "    print(\"CUDA доступна!\")\n",
    "    device = torch.device(\"cuda\")\n",
    "else:\n",
    "    print(\"CUDA недоступна. Вычисления будут выполняться на CPU.\")\n",
    "    device = torch.device(\"cpu\")"
   ]
  },
  {
   "cell_type": "code",
   "execution_count": 3,
   "metadata": {},
   "outputs": [
    {
     "name": "stderr",
     "output_type": "stream",
     "text": [
      "/tmp/ipykernel_25501/1241434154.py:1: DtypeWarning: Columns (3,7) have mixed types. Specify dtype option on import or set low_memory=False.\n",
      "  df_load = pd.read_csv('../parsing/files/movie_data.csv').set_index('Unnamed: 0')\n"
     ]
    }
   ],
   "source": [
    "df_load = pd.read_csv('../parsing/files/movie_data.csv').set_index('Unnamed: 0')"
   ]
  },
  {
   "cell_type": "code",
   "execution_count": 4,
   "metadata": {},
   "outputs": [],
   "source": [
    "my_imputer = ColumnTransformer(\n",
    "    transformers = [\n",
    "        ('imputer_zeros', SimpleImputer(strategy='constant', fill_value='Unknown'), ['img', 'actors']),\n",
    "    ],\n",
    "    verbose_feature_names_out = False,\n",
    "    remainder = 'passthrough'\n",
    ")"
   ]
  },
  {
   "cell_type": "code",
   "execution_count": 5,
   "metadata": {},
   "outputs": [],
   "source": [
    "df = my_imputer.fit_transform(df_load).reset_index(drop=True)"
   ]
  },
  {
   "cell_type": "code",
   "execution_count": 6,
   "metadata": {},
   "outputs": [],
   "source": [
    "# df.to_csv('../parsing/files/movie_data_2.csv')"
   ]
  },
  {
   "cell_type": "code",
   "execution_count": 7,
   "metadata": {},
   "outputs": [
    {
     "data": {
      "text/plain": [
       "Index(['img', 'actors', 'title', 'url', 'time_sec', 'genre', 'director',\n",
       "       'description', 'year', 'ужасы', 'фэнтези', 'вестерн', 'семейный',\n",
       "       'мультфильмы', 'приключения', 'военный', 'фантастика', 'драма',\n",
       "       'комедия', 'мелодрама', 'боевик', 'триллер', 'музыкальный',\n",
       "       'документальный', 'короткометражный', 'криминал', 'эротика', 'детектив',\n",
       "       'детский', 'мюзикл', 'аниме', 'биография', 'спорт', 'исторический',\n",
       "       'title_full'],\n",
       "      dtype='object')"
      ]
     },
     "execution_count": 7,
     "metadata": {},
     "output_type": "execute_result"
    }
   ],
   "source": [
    "df.columns"
   ]
  },
  {
   "cell_type": "code",
   "execution_count": 8,
   "metadata": {},
   "outputs": [
    {
     "data": {
      "text/plain": [
       "'Человек-паук: Нет пути домой боевик, приключения, фантастика Джон Уоттс Том Холланд, Зендая, Бенедикт Камбербэтч, Мариса Томей, Джейкоб Баталон, Уиллем Дефо, Альфред Молина, Джейми Фокс, Рис Иванс, Томас Хейден Черч, Джон Фавро, Тоби Магуайр, Эндрю Гарфилд, Тони Револори, Дж. К. Симмонс, Бенедикт Вонг, Энгаури Райс, Мартин Старр, Дж.Б. Смув, Гарри Холланд, Хэннибал Бересс, Паула Ньюсом, Хорхе Лендеборг мл., Чарли Кокс Теперь, когда весь мир узнал, кто скрывается за маской Человека-паука, жизнь Питера Паркера и его близких меняется не в лучшую сторону. Не придумав ничего лучше, Паркер обращается за помощью к Доктору Стрэнджу. Но в процессе заклинания, которое должно было заставить человечество забыть о Питере, что-то идет не так, в результате чего открывается портал в Мультивселенную. Герою предстоит познакомиться со всеми суперзлодеями, с которыми приходилось бороться Человеку-пауку в альтернативных реальностях.  «Человек-паук: Нет пути домой» — супергеройский фильм, основанный на серии комиксов Marvel о бесстрашном Человеке-пауке. Является третьим проектом киноцикла режиссера Джона Уоттса. Главную роль исполнил Том Холланд. В фильме также появились и другие знаменитые актеры: Тоби Магуайр, Эндрю Гарфилд, Зендая, Бенедикт Камбербэтч, Уиллем Дефо, Альфред Молина, Джейми Фокс, Рис Иванс, Томас Хейден Черч и другие.'"
      ]
     },
     "execution_count": 8,
     "metadata": {},
     "output_type": "execute_result"
    }
   ],
   "source": [
    "df['all_text'] = df.apply(lambda row: f'{row['title']} {row['genre']} {row['director']} {row['actors']} {row['description']}', axis=1)\n",
    "df['all_text'][0]"
   ]
  },
  {
   "cell_type": "code",
   "execution_count": 9,
   "metadata": {},
   "outputs": [],
   "source": [
    "max_length = 512\n",
    "tokenizer = AutoTokenizer.from_pretrained('sentence-transformers/paraphrase-multilingual-MiniLM-L12-v2', truncation=True, max_length=max_length)\n",
    "model = AutoModel.from_pretrained('sentence-transformers/paraphrase-multilingual-MiniLM-L12-v2').to(device).half()"
   ]
  },
  {
   "cell_type": "code",
   "execution_count": 10,
   "metadata": {},
   "outputs": [],
   "source": [
    "def mean_pooling(model_output, attention_mask):\n",
    "    token_embeddings = model_output[0]\n",
    "    input_mask_expanded = attention_mask.unsqueeze(-1).expand(token_embeddings.size()).float()\n",
    "    return torch.sum(token_embeddings * input_mask_expanded, 1) / torch.clamp(input_mask_expanded.sum(1), min=1e-9)\n",
    "\n",
    "def get_sentence_embedding(text):\n",
    "    inputs = tokenizer(text, return_tensors='pt', truncation=True, padding=True).to(device)\n",
    "    with torch.amp.autocast('cuda'):\n",
    "        with torch.no_grad():\n",
    "            outputs = model(**inputs)\n",
    "        embeddings = mean_pooling(outputs, inputs['attention_mask']).cpu().numpy()[0] # Удаление лишней размерности [0]\n",
    "    return embeddings"
   ]
  },
  {
   "cell_type": "code",
   "execution_count": 78,
   "metadata": {},
   "outputs": [],
   "source": [
    "embeddings = df['all_text'].apply(get_sentence_embedding).tolist()"
   ]
  },
  {
   "cell_type": "code",
   "execution_count": 79,
   "metadata": {},
   "outputs": [],
   "source": [
    "with open(\"./files/embeddings\", \"wb\") as fp:\n",
    "    pickle.dump(embeddings, fp)"
   ]
  },
  {
   "cell_type": "code",
   "execution_count": 76,
   "metadata": {},
   "outputs": [
    {
     "data": {
      "text/plain": [
       "pandas.core.series.Series"
      ]
     },
     "execution_count": 76,
     "metadata": {},
     "output_type": "execute_result"
    }
   ],
   "source": [
    "type(embeddings)"
   ]
  },
  {
   "cell_type": "code",
   "execution_count": 82,
   "metadata": {},
   "outputs": [],
   "source": [
    "def search_movie(query, top_k=5, year=None):\n",
    "    query_embedding = get_sentence_embedding(query)\n",
    "    cos_scores = torch.nn.functional.cosine_similarity(torch.tensor(query_embedding), torch.tensor(embeddings))\n",
    "    df['similarity'] = cos_scores.tolist()\n",
    "    res = df.sort_values(by='similarity', ascending=False)\n",
    "    if year:\n",
    "        res = res[res['year'] == year]\n",
    "    return res.head(top_k)"
   ]
  },
  {
   "cell_type": "code",
   "execution_count": 80,
   "metadata": {},
   "outputs": [
    {
     "name": "stderr",
     "output_type": "stream",
     "text": [
      "2025-02-28 16:33:26.797 No runtime found, using MemoryCacheStorageManager\n"
     ]
    }
   ],
   "source": [
    "import streamlit as st\n",
    "import spacy\n",
    "import pymorphy3\n",
    "\n",
    "\n",
    "@st.cache_data\n",
    "def load_models():\n",
    "    # Создание объекта для морфологического анализа\n",
    "    morph = pymorphy3.MorphAnalyzer()\n",
    "    # Загрузка модели spaCy для русского языка\n",
    "    nlp = spacy.load(\"ru_core_news_lg\")\n",
    "    return nlp, morph\n",
    "\n",
    "\n",
    "def sort_by_entities(df: pd.DataFrame, text: str, morph: pymorphy3.analyzer.MorphAnalyzer, nlp):\n",
    "    genres = {'аниме',\n",
    "              'биография',\n",
    "              'боевик',\n",
    "              'вестерн',\n",
    "              'военный',\n",
    "              'детектив',\n",
    "              'детский',\n",
    "              'документальный',\n",
    "              'драма',\n",
    "              'исторический',\n",
    "              'комедия',\n",
    "              'короткометражный',\n",
    "              'криминал',\n",
    "              'мелодрама',\n",
    "              'музыкальный',\n",
    "              'мультфильмы',\n",
    "              'мюзикл',\n",
    "              'приключения',\n",
    "              'семейный',\n",
    "              'спорт',\n",
    "              'триллер',\n",
    "              'ужасы',\n",
    "              'фантастика',\n",
    "              'фэнтези',\n",
    "              'эротика'}\n",
    "    # Обработка текста\n",
    "    doc = nlp(text)\n",
    "\n",
    "    # Извлечение сущностей\n",
    "    entities = [entity.text for entity in doc.ents if entity.label_ == \"PER\"]\n",
    "\n",
    "    persons = []\n",
    "    for entity in entities:\n",
    "        persons.append(\" \".join([morph.parse(person)[0].normal_form for person in entity.split()]))\n",
    "\n",
    "    conditions = []\n",
    "    for person in persons:\n",
    "        for word in person.split(\" \"):\n",
    "            if len(word) > 3:\n",
    "                word = word[:-1]\n",
    "            conditions.append(df[\"actors\"].str.contains(word, na=False, case=False))\n",
    "            conditions.append(df[\"director\"].str.contains(word, na=False, case=False))\n",
    "\n",
    "    combined_condition = pd.Series([False] * len(df), index=df.index)\n",
    "    if len(conditions) > 1:\n",
    "        combined_condition = conditions[0]\n",
    "        for condition in conditions[1:]:\n",
    "            combined_condition |= condition\n",
    "\n",
    "    search_genre = []\n",
    "    for genre in genres:\n",
    "        if genre in text.lower():\n",
    "            search_genre.append(df[genre] == 1)\n",
    "\n",
    "    if len(search_genre) > 0:\n",
    "        for condition in search_genre:\n",
    "            combined_condition |= condition\n",
    "\n",
    "    if len(search_genre) + len(persons) > 0:\n",
    "        filtered = pd.concat([df[combined_condition], df[~combined_condition]])\n",
    "    else:\n",
    "        filtered = df\n",
    "    return filtered\n"
   ]
  },
  {
   "cell_type": "code",
   "execution_count": 84,
   "metadata": {},
   "outputs": [
    {
     "data": {
      "text/html": [
       "<div>\n",
       "<style scoped>\n",
       "    .dataframe tbody tr th:only-of-type {\n",
       "        vertical-align: middle;\n",
       "    }\n",
       "\n",
       "    .dataframe tbody tr th {\n",
       "        vertical-align: top;\n",
       "    }\n",
       "\n",
       "    .dataframe thead th {\n",
       "        text-align: right;\n",
       "    }\n",
       "</style>\n",
       "<table border=\"1\" class=\"dataframe\">\n",
       "  <thead>\n",
       "    <tr style=\"text-align: right;\">\n",
       "      <th></th>\n",
       "      <th>title</th>\n",
       "      <th>year</th>\n",
       "      <th>actors</th>\n",
       "      <th>description</th>\n",
       "      <th>similarity</th>\n",
       "    </tr>\n",
       "  </thead>\n",
       "  <tbody>\n",
       "    <tr>\n",
       "      <th>26014</th>\n",
       "      <td>Просто любовь</td>\n",
       "      <td>2023</td>\n",
       "      <td>Лайа Коста, Ховик Кеучкерян, Ингрид Гарсия Йон...</td>\n",
       "      <td>Тридцатилетняя Нэт сбегает от напряженной горо...</td>\n",
       "      <td>0.780175</td>\n",
       "    </tr>\n",
       "    <tr>\n",
       "      <th>40107</th>\n",
       "      <td>Драма/Мекс</td>\n",
       "      <td>2006</td>\n",
       "      <td>Фернандо Бесерриль, Мириана Моро, Хуан Пабло К...</td>\n",
       "      <td>Жизненная мелодрама, в центре сюжета которой л...</td>\n",
       "      <td>0.757315</td>\n",
       "    </tr>\n",
       "    <tr>\n",
       "      <th>9000</th>\n",
       "      <td>Двое</td>\n",
       "      <td>1961</td>\n",
       "      <td>Беба Лончар, Миха Балох, Нада Касапич, Борисла...</td>\n",
       "      <td>Молодой человек влюбляется в девушку, которую ...</td>\n",
       "      <td>0.744767</td>\n",
       "    </tr>\n",
       "    <tr>\n",
       "      <th>7779</th>\n",
       "      <td>Говори мне о любви</td>\n",
       "      <td>1986</td>\n",
       "      <td>Фернанда Торрес, Талес Пан Шакон</td>\n",
       "      <td>Чувственная бразильская драма, герои которой —...</td>\n",
       "      <td>0.739419</td>\n",
       "    </tr>\n",
       "    <tr>\n",
       "      <th>38213</th>\n",
       "      <td>Противоположность любви</td>\n",
       "      <td>2011</td>\n",
       "      <td>Адриана Угарте, Уго Сильва, Луис Кальехо, Март...</td>\n",
       "      <td>После нескольких неудач в любви Мерче и Рауль ...</td>\n",
       "      <td>0.731924</td>\n",
       "    </tr>\n",
       "  </tbody>\n",
       "</table>\n",
       "</div>"
      ],
      "text/plain": [
       "                         title  year  \\\n",
       "26014            Просто любовь  2023   \n",
       "40107               Драма/Мекс  2006   \n",
       "9000                      Двое  1961   \n",
       "7779        Говори мне о любви  1986   \n",
       "38213  Противоположность любви  2011   \n",
       "\n",
       "                                                  actors  \\\n",
       "26014  Лайа Коста, Ховик Кеучкерян, Ингрид Гарсия Йон...   \n",
       "40107  Фернандо Бесерриль, Мириана Моро, Хуан Пабло К...   \n",
       "9000   Беба Лончар, Миха Балох, Нада Касапич, Борисла...   \n",
       "7779                    Фернанда Торрес, Талес Пан Шакон   \n",
       "38213  Адриана Угарте, Уго Сильва, Луис Кальехо, Март...   \n",
       "\n",
       "                                             description  similarity  \n",
       "26014  Тридцатилетняя Нэт сбегает от напряженной горо...    0.780175  \n",
       "40107  Жизненная мелодрама, в центре сюжета которой л...    0.757315  \n",
       "9000   Молодой человек влюбляется в девушку, которую ...    0.744767  \n",
       "7779   Чувственная бразильская драма, герои которой —...    0.739419  \n",
       "38213  После нескольких неудач в любви Мерче и Рауль ...    0.731924  "
      ]
     },
     "metadata": {},
     "output_type": "display_data"
    }
   ],
   "source": [
    "query = 'фильм про любовь и приключения c Лайа Коста'\n",
    "# query = 'комедия про детей'\n",
    "result = search_movie(query)\n",
    "nlp, morph = load_models()\n",
    "result_new = sort_by_entities(result, query, morph, nlp)\n",
    "display(result[['title', 'year', 'actors', 'description', 'similarity']])"
   ]
  },
  {
   "cell_type": "code",
   "execution_count": 75,
   "metadata": {},
   "outputs": [
    {
     "data": {
      "text/plain": [
       "pandas.core.frame.DataFrame"
      ]
     },
     "execution_count": 75,
     "metadata": {},
     "output_type": "execute_result"
    }
   ],
   "source": [
    "type(result)"
   ]
  },
  {
   "cell_type": "code",
   "execution_count": 24,
   "metadata": {},
   "outputs": [],
   "source": [
    "torch.cuda.empty_cache()"
   ]
  }
 ],
 "metadata": {
  "kernelspec": {
   "display_name": "find_my_movie",
   "language": "python",
   "name": "python3"
  },
  "language_info": {
   "codemirror_mode": {
    "name": "ipython",
    "version": 3
   },
   "file_extension": ".py",
   "mimetype": "text/x-python",
   "name": "python",
   "nbconvert_exporter": "python",
   "pygments_lexer": "ipython3",
   "version": "3.12.9"
  }
 },
 "nbformat": 4,
 "nbformat_minor": 2
}
